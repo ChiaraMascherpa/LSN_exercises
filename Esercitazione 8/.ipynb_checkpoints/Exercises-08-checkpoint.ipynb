{
 "cells": [
  {
   "cell_type": "markdown",
   "id": "d82d79f0-59bc-4f00-85d4-04739194ecb0",
   "metadata": {},
   "source": [
    "# Exercises 04"
   ]
  },
  {
   "cell_type": "code",
   "execution_count": null,
   "id": "f8136fff-6ae8-49b0-95b9-cecc8e095265",
   "metadata": {
    "jupyter": {
     "source_hidden": true
    },
    "tags": []
   },
   "outputs": [],
   "source": [
    "import matplotlib\n",
    "import matplotlib.pyplot as plt\n",
    "import numpy as np\n",
    "from mpl_toolkits.mplot3d import Axes3D\n",
    "import math\n",
    "from scipy.optimize import curve_fit #non so se queste ultime due servono"
   ]
  },
  {
   "cell_type": "markdown",
   "id": "fb34028d-e744-4431-a0a3-359d26830129",
   "metadata": {},
   "source": [
    "## Exercise 05.1 - Hydrogen atom"
   ]
  }
 ],
 "metadata": {
  "kernelspec": {
   "display_name": "Python 3 (ipykernel)",
   "language": "python",
   "name": "python3"
  },
  "language_info": {
   "codemirror_mode": {
    "name": "ipython",
    "version": 3
   },
   "file_extension": ".py",
   "mimetype": "text/x-python",
   "name": "python",
   "nbconvert_exporter": "python",
   "pygments_lexer": "ipython3",
   "version": "3.9.7"
  }
 },
 "nbformat": 4,
 "nbformat_minor": 5
}
